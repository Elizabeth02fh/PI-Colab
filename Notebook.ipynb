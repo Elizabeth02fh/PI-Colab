{
 "cells": [
  {
   "cell_type": "code",
   "execution_count": 1,
   "metadata": {},
   "outputs": [],
   "source": [
    "import pandas as pd\n",
    "import os\n",
    "import glob\n",
    "from datetime import datetime"
   ]
  },
  {
   "cell_type": "code",
   "execution_count": 2,
   "metadata": {},
   "outputs": [],
   "source": [
    "path = os.getcwd() + \"\\\\Dataset\\\\\"\n",
    "files = glob.glob(path + \"/*precios*\")"
   ]
  },
  {
   "cell_type": "code",
   "execution_count": 96,
   "metadata": {},
   "outputs": [],
   "source": [
    "df_precios = pd.read_excel(files[0], dtype=object ,sheet_name=1)\n",
    "df_precios1 = pd.read_excel(files[0], sheet_name=0)\n",
    "df_precios2 = pd.read_csv(files[1],sep=',',encoding='utf-16')\n",
    "df_precios3 = pd.read_json(files[2])"
   ]
  },
  {
   "cell_type": "code",
   "execution_count": 175,
   "metadata": {},
   "outputs": [],
   "source": [
    "df_precios1 = pd.read_excel(files[0], sheet_name=0)"
   ]
  },
  {
   "cell_type": "code",
   "execution_count": 230,
   "metadata": {},
   "outputs": [],
   "source": [
    "def unDate(x):\n",
    "    \"\"\"read_excel me trae algunas sucursal_id como si fueran datetime. Esta funcion toma elementos, chequea si son datetime y en caso de serlo, los convierte a str con el formato acorde al orden de identificadores de sucursal\"\"\"\n",
    "    if isinstance(x,datetime):\n",
    "        x=x.strftime(\"%d-%m-%Y\")\n",
    "    return x\n",
    "\n",
    "def nasDups(df):\n",
    "    \"\"\"Cosas básicas: remover duplicados y nulos\"\"\"\n",
    "    df = df.copy()\n",
    "    df = df.dropna()\n",
    "    df = df.drop_duplicates()\n",
    "    return df\n",
    "\n",
    "def typeCheck(df):\n",
    "    \"\"\"En base a la exploracion inicial, se detectaron errores comunes en los diferentes campos. Esta funcion soluciona todos los problemas encontrados en los diferentes archivos de la fuente de datos\"\"\"\n",
    "\n",
    "    if df.precio.dtype != \"float\":\n",
    "        \"\"\"Algunos precios llegan con un string vacio en vez de nulo. Los convertimos a None para removerlos despues. A los que tienen valores, los convertimos a float\"\"\"\n",
    "        try:\n",
    "            df.precio = df.precio.apply(lambda x: None if x == '' else x)\n",
    "            df.precio = df.precio.astype(float)\n",
    "        except:\n",
    "            print(\"Error type precios\")\n",
    "\n",
    "    if df.sucursal_id.dtype != \"str\":\n",
    "        try:\n",
    "            df.sucursal_id = df.sucursal_id.astype('string')\n",
    "        except:\n",
    "            print('Error type sucursal_id')\n",
    "            \n",
    "    if df.producto_id.dtype != \"string\":\n",
    "        \"\"\"Primero chequeo si el producto_id es string o no. De no serlo, es uno de los casos donde está en float o notacion cientifica. Primero lo paso a int y luego a string.\"\"\"\n",
    "        try:\n",
    "            df.producto_id = df.producto_id.astype('int64')\n",
    "            df.producto_id = df.producto_id.astype('string')\n",
    "        except:\n",
    "            print(\"Jaja, no\")\n",
    "        return df\n",
    "\n",
    "def splitProd(df):\n",
    "    \"\"\"Algunos productos tenian hardcodeada la sucursal. Removemos esa porcion del string y nos quedamos unicamente con el codigo de producto (12-13 char)\"\"\"\n",
    "    df.producto_id = df.producto_id.str.split('-').str[-1]\n",
    "    return df\n"
   ]
  },
  {
   "cell_type": "code",
   "execution_count": 231,
   "metadata": {},
   "outputs": [],
   "source": [
    "def etl(df):\n",
    "    df = nasDups(df)\n",
    "    df = typeCheck(df)\n",
    "    df = splitProd(df)\n",
    "    df = unDate(df)\n",
    "    return df"
   ]
  },
  {
   "cell_type": "code",
   "execution_count": 232,
   "metadata": {},
   "outputs": [],
   "source": [
    "df_precios = etl(df_precios)\n",
    "df_precios1 = etl(df_precios1)\n",
    "df_precios2 = etl(df_precios2)\n",
    "df_precios3 = etl(df_precios3)"
   ]
  }
 ],
 "metadata": {
  "kernelspec": {
   "display_name": "Python 3.10.6 64-bit",
   "language": "python",
   "name": "python3"
  },
  "language_info": {
   "codemirror_mode": {
    "name": "ipython",
    "version": 3
   },
   "file_extension": ".py",
   "mimetype": "text/x-python",
   "name": "python",
   "nbconvert_exporter": "python",
   "pygments_lexer": "ipython3",
   "version": "3.10.6"
  },
  "orig_nbformat": 4,
  "vscode": {
   "interpreter": {
    "hash": "76c4de0fabe0602e2c2e9a8dee706b7aec8ef4c85d03ce0961883d90af556438"
   }
  }
 },
 "nbformat": 4,
 "nbformat_minor": 2
}
