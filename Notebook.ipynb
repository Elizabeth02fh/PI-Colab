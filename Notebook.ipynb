{
 "cells": [
  {
   "cell_type": "code",
   "execution_count": 1,
   "metadata": {},
   "outputs": [],
   "source": [
    "import pandas as pd\n",
    "import os\n",
    "import glob\n",
    "from datetime import datetime"
   ]
  },
  {
   "cell_type": "code",
   "execution_count": 2,
   "metadata": {},
   "outputs": [],
   "source": [
    "path = os.getcwd() + \"\\\\Dataset\\\\\"\n",
    "files = glob.glob(path + \"/*precios*\")"
   ]
  },
  {
   "cell_type": "code",
   "execution_count": 96,
   "metadata": {},
   "outputs": [],
   "source": [
    "df_precios = pd.read_excel(files[0], dtype=object ,sheet_name=1)\n",
    "df_precios1 = pd.read_excel(files[0], sheet_name=0)\n",
    "df_precios2 = pd.read_csv(files[1],sep=',',encoding='utf-16')\n",
    "df_precios3 = pd.read_json(files[2])"
   ]
  },
  {
   "cell_type": "code",
   "execution_count": 155,
   "metadata": {},
   "outputs": [],
   "source": [
    "def unDate(x):\n",
    "    \"\"\"read_excel me trae algunas sucursal_id como si fueran datetime. Esta funcion toma elementos, chequea si son datetime y en caso de serlo, los convierte a str con el formato acorde al orden de identificadores de sucursal\"\"\"\n",
    "    if isinstance(x,datetime):\n",
    "        x=x.strftime(\"%d-%m-%Y\")\n",
    "    return x\n",
    "\n",
    "def nasDups(df):\n",
    "    \"\"\"Cosas básicas: remover duplicados y nulos\"\"\"\n",
    "    df = df.copy()\n",
    "    df = df.dropna()\n",
    "    df = df.drop_duplicates()\n",
    "    return df\n",
    "\n",
    "def typeCheck(df):\n",
    "    if df.precio.dtype != \"float\":\n",
    "        try:\n",
    "            df.precio = df.precio.astype(float)\n",
    "        except:\n",
    "            print(\"Error 1\")\n",
    "    if df.sucursal_id.dtype != \"str\":\n",
    "        try:\n",
    "            df.sucursal_id = df.sucursal_id.astype('string')\n",
    "        except:\n",
    "            print('Error str')\n",
    "    return df\n",
    "\n",
    "def splitProd(df):\n",
    "    df.producto_id = df.producto_id.str.split('-').str[-1]\n",
    "    return df\n"
   ]
  },
  {
   "cell_type": "code",
   "execution_count": 156,
   "metadata": {},
   "outputs": [],
   "source": [
    "df_precios = nasDups(df_precios)\n",
    "df_precios = splitProd(df_precios)\n",
    "df_precios = typeCheck(df_precios)"
   ]
  },
  {
   "cell_type": "code",
   "execution_count": 158,
   "metadata": {},
   "outputs": [],
   "source": [
    "def etl(df):\n",
    "    df = nasDups(df)\n",
    "    df = splitProd(df)\n",
    "    df = typeCheck(df)\n",
    "    return df"
   ]
  },
  {
   "cell_type": "code",
   "execution_count": null,
   "metadata": {},
   "outputs": [],
   "source": []
  },
  {
   "cell_type": "code",
   "execution_count": 154,
   "metadata": {},
   "outputs": [
    {
     "data": {
      "text/plain": [
       "11125     2300006000003\n",
       "11126     2300049000008\n",
       "11127     2300073000005\n",
       "11128     2300073000005\n",
       "11129     2300075000003\n",
       "              ...      \n",
       "458382    0000000992855\n",
       "458383    0000000992855\n",
       "458384    0000000995696\n",
       "458385    0000000997096\n",
       "458386    0000000999137\n",
       "Name: producto_id, Length: 12464, dtype: string"
      ]
     },
     "execution_count": 154,
     "metadata": {},
     "output_type": "execute_result"
    }
   ],
   "source": [
    "df_precios.producto_id.astype('string')"
   ]
  },
  {
   "cell_type": "code",
   "execution_count": 134,
   "metadata": {},
   "outputs": [
    {
     "data": {
      "text/html": [
       "<div>\n",
       "<style scoped>\n",
       "    .dataframe tbody tr th:only-of-type {\n",
       "        vertical-align: middle;\n",
       "    }\n",
       "\n",
       "    .dataframe tbody tr th {\n",
       "        vertical-align: top;\n",
       "    }\n",
       "\n",
       "    .dataframe thead th {\n",
       "        text-align: right;\n",
       "    }\n",
       "</style>\n",
       "<table border=\"1\" class=\"dataframe\">\n",
       "  <thead>\n",
       "    <tr style=\"text-align: right;\">\n",
       "      <th></th>\n",
       "      <th>precio</th>\n",
       "      <th>producto_id</th>\n",
       "      <th>sucursal_id</th>\n",
       "    </tr>\n",
       "  </thead>\n",
       "  <tbody>\n",
       "    <tr>\n",
       "      <th>22476</th>\n",
       "      <td>4.399890e+16</td>\n",
       "      <td>NaN</td>\n",
       "      <td>36-3-25</td>\n",
       "    </tr>\n",
       "    <tr>\n",
       "      <th>22488</th>\n",
       "      <td>4.399890e+16</td>\n",
       "      <td>NaN</td>\n",
       "      <td>36-3-25</td>\n",
       "    </tr>\n",
       "    <tr>\n",
       "      <th>22489</th>\n",
       "      <td>4.399890e+16</td>\n",
       "      <td>NaN</td>\n",
       "      <td>36-3-25</td>\n",
       "    </tr>\n",
       "    <tr>\n",
       "      <th>22783</th>\n",
       "      <td>4.399890e+16</td>\n",
       "      <td>NaN</td>\n",
       "      <td>36-5-73</td>\n",
       "    </tr>\n",
       "  </tbody>\n",
       "</table>\n",
       "</div>"
      ],
      "text/plain": [
       "             precio  producto_id sucursal_id\n",
       "22476  4.399890e+16          NaN     36-3-25\n",
       "22488  4.399890e+16          NaN     36-3-25\n",
       "22489  4.399890e+16          NaN     36-3-25\n",
       "22783  4.399890e+16          NaN     36-5-73"
      ]
     },
     "execution_count": 134,
     "metadata": {},
     "output_type": "execute_result"
    }
   ],
   "source": [
    "df_precios1[df_precios1.precio == df_precios1.precio.max()]"
   ]
  },
  {
   "cell_type": "code",
   "execution_count": 116,
   "metadata": {},
   "outputs": [
    {
     "data": {
      "text/plain": [
       "11125     829.00\n",
       "11126      59.00\n",
       "11127      59.00\n",
       "11128       7.49\n",
       "11129      59.00\n",
       "           ...  \n",
       "458382    145.00\n",
       "458383    149.00\n",
       "458384    509.00\n",
       "458385     90.99\n",
       "458386    349.99\n",
       "Name: precio, Length: 12464, dtype: float64"
      ]
     },
     "execution_count": 116,
     "metadata": {},
     "output_type": "execute_result"
    }
   ],
   "source": [
    "df_precios.precio.astype(float)"
   ]
  },
  {
   "cell_type": "code",
   "execution_count": null,
   "metadata": {},
   "outputs": [],
   "source": []
  },
  {
   "cell_type": "markdown",
   "metadata": {},
   "source": [
    "Algunos precios son un str vacio: ''. Los convertimos a nulos para poder remover esos registros"
   ]
  },
  {
   "cell_type": "code",
   "execution_count": 86,
   "metadata": {},
   "outputs": [
    {
     "data": {
      "text/html": [
       "<div>\n",
       "<style scoped>\n",
       "    .dataframe tbody tr th:only-of-type {\n",
       "        vertical-align: middle;\n",
       "    }\n",
       "\n",
       "    .dataframe tbody tr th {\n",
       "        vertical-align: top;\n",
       "    }\n",
       "\n",
       "    .dataframe thead th {\n",
       "        text-align: right;\n",
       "    }\n",
       "</style>\n",
       "<table border=\"1\" class=\"dataframe\">\n",
       "  <thead>\n",
       "    <tr style=\"text-align: right;\">\n",
       "      <th></th>\n",
       "      <th>precio</th>\n",
       "      <th>producto_id</th>\n",
       "      <th>sucursal_id</th>\n",
       "    </tr>\n",
       "  </thead>\n",
       "  <tbody>\n",
       "  </tbody>\n",
       "</table>\n",
       "</div>"
      ],
      "text/plain": [
       "Empty DataFrame\n",
       "Columns: [precio, producto_id, sucursal_id]\n",
       "Index: []"
      ]
     },
     "execution_count": 86,
     "metadata": {},
     "output_type": "execute_result"
    }
   ],
   "source": [
    "df_precios3[df_precios3.precio == '']"
   ]
  },
  {
   "cell_type": "code",
   "execution_count": 87,
   "metadata": {},
   "outputs": [],
   "source": [
    "df_precios3.precio = df_precios3.precio.apply(lambda x: None if x == '' else x)"
   ]
  },
  {
   "cell_type": "code",
   "execution_count": 77,
   "metadata": {},
   "outputs": [],
   "source": [
    "df_precios.sucursal_id = df_precios['sucursal_id'].apply(unDate)"
   ]
  },
  {
   "cell_type": "markdown",
   "metadata": {},
   "source": [
    "Vemos que hay nulos en precio y en producto_id.  \n",
    "Los producto_id están como float, vamos a convertirlos"
   ]
  },
  {
   "cell_type": "code",
   "execution_count": 79,
   "metadata": {},
   "outputs": [],
   "source": [
    "df_precios.producto_id =  df_precios['producto_id'].apply(lambda x: int(x) if isinstance(x,float) else None)\n",
    "# df_precios.precio = df_precios.precio.astype(float)"
   ]
  },
  {
   "cell_type": "code",
   "execution_count": 89,
   "metadata": {},
   "outputs": [
    {
     "name": "stdout",
     "output_type": "stream",
     "text": [
      "<class 'pandas.core.frame.DataFrame'>\n",
      "Int64Index: 472131 entries, 0 to 472165\n",
      "Data columns (total 3 columns):\n",
      " #   Column       Non-Null Count   Dtype  \n",
      "---  ------       --------------   -----  \n",
      " 0   precio       472131 non-null  float64\n",
      " 1   producto_id  472131 non-null  object \n",
      " 2   sucursal_id  472131 non-null  object \n",
      "dtypes: float64(1), object(2)\n",
      "memory usage: 30.5+ MB\n"
     ]
    }
   ],
   "source": [
    "df_precios2.info()"
   ]
  },
  {
   "cell_type": "code",
   "execution_count": 6,
   "metadata": {},
   "outputs": [],
   "source": [
    "df_precios2 = nasDups(df_precios2)"
   ]
  },
  {
   "cell_type": "code",
   "execution_count": 39,
   "metadata": {},
   "outputs": [],
   "source": [
    "df_precios.precio = df_precios.precio.astype(float)"
   ]
  },
  {
   "cell_type": "code",
   "execution_count": 129,
   "metadata": {},
   "outputs": [],
   "source": [
    "df_precios2 = preProc(df_precios2)"
   ]
  },
  {
   "cell_type": "code",
   "execution_count": 144,
   "metadata": {},
   "outputs": [],
   "source": [
    "count = 0\n",
    "count_str = 0\n",
    "for item in df_precios.producto_id:\n",
    "    if isinstance(item,str):\n",
    "        if '-' in item:\n",
    "            count_str +=1\n",
    "    else:\n",
    "        count+=1\n"
   ]
  }
 ],
 "metadata": {
  "kernelspec": {
   "display_name": "Python 3.10.6 64-bit",
   "language": "python",
   "name": "python3"
  },
  "language_info": {
   "codemirror_mode": {
    "name": "ipython",
    "version": 3
   },
   "file_extension": ".py",
   "mimetype": "text/x-python",
   "name": "python",
   "nbconvert_exporter": "python",
   "pygments_lexer": "ipython3",
   "version": "3.10.6"
  },
  "orig_nbformat": 4,
  "vscode": {
   "interpreter": {
    "hash": "76c4de0fabe0602e2c2e9a8dee706b7aec8ef4c85d03ce0961883d90af556438"
   }
  }
 },
 "nbformat": 4,
 "nbformat_minor": 2
}
