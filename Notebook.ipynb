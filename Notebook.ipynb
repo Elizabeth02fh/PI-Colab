{
 "cells": [
  {
   "cell_type": "code",
   "execution_count": 1,
   "metadata": {},
   "outputs": [],
   "source": [
    "import pandas as pd\n",
    "import os\n",
    "import glob"
   ]
  },
  {
   "cell_type": "code",
   "execution_count": 12,
   "metadata": {},
   "outputs": [],
   "source": [
    "path = os.getcwd() + \"\\\\Dataset\\\\\"\n",
    "files = glob.glob(path + \"/*precios*\")"
   ]
  },
  {
   "cell_type": "code",
   "execution_count": 13,
   "metadata": {},
   "outputs": [
    {
     "data": {
      "text/plain": [
       "['c:\\\\Users\\\\ferch\\\\Desktop\\\\Henry-Mentor\\\\DS_LABS\\\\Proyectos\\\\Proyectos Individuales\\\\PI01_DATA04\\\\Dataset\\\\precios_semanas_20200419_20200426.xlsx',\n",
       " 'c:\\\\Users\\\\ferch\\\\Desktop\\\\Henry-Mentor\\\\DS_LABS\\\\Proyectos\\\\Proyectos Individuales\\\\PI01_DATA04\\\\Dataset\\\\precios_semana_20200413.csv',\n",
       " 'c:\\\\Users\\\\ferch\\\\Desktop\\\\Henry-Mentor\\\\DS_LABS\\\\Proyectos\\\\Proyectos Individuales\\\\PI01_DATA04\\\\Dataset\\\\precios_semana_20200503.json',\n",
       " 'c:\\\\Users\\\\ferch\\\\Desktop\\\\Henry-Mentor\\\\DS_LABS\\\\Proyectos\\\\Proyectos Individuales\\\\PI01_DATA04\\\\Dataset\\\\precios_semana_20200518.txt']"
      ]
     },
     "execution_count": 13,
     "metadata": {},
     "output_type": "execute_result"
    }
   ],
   "source": [
    "files"
   ]
  },
  {
   "cell_type": "code",
   "execution_count": 14,
   "metadata": {},
   "outputs": [],
   "source": [
    "df_precios = pd.read_excel(files[0])\n",
    "df_precios2 = pd.read_csv(files[1],sep=',',encoding='utf-16')\n",
    "df_precios3 = pd.read_json(files[2])"
   ]
  },
  {
   "cell_type": "code",
   "execution_count": 22,
   "metadata": {},
   "outputs": [
    {
     "data": {
      "text/html": [
       "<div>\n",
       "<style scoped>\n",
       "    .dataframe tbody tr th:only-of-type {\n",
       "        vertical-align: middle;\n",
       "    }\n",
       "\n",
       "    .dataframe tbody tr th {\n",
       "        vertical-align: top;\n",
       "    }\n",
       "\n",
       "    .dataframe thead th {\n",
       "        text-align: right;\n",
       "    }\n",
       "</style>\n",
       "<table border=\"1\" class=\"dataframe\">\n",
       "  <thead>\n",
       "    <tr style=\"text-align: right;\">\n",
       "      <th></th>\n",
       "      <th>precio</th>\n",
       "      <th>producto_id</th>\n",
       "      <th>sucursal_id</th>\n",
       "    </tr>\n",
       "  </thead>\n",
       "  <tbody>\n",
       "    <tr>\n",
       "      <th>0</th>\n",
       "      <td>399.0</td>\n",
       "      <td>2.288000e+03</td>\n",
       "      <td>2-1-092</td>\n",
       "    </tr>\n",
       "    <tr>\n",
       "      <th>1</th>\n",
       "      <td>299.0</td>\n",
       "      <td>2.288000e+03</td>\n",
       "      <td>2-1-206</td>\n",
       "    </tr>\n",
       "    <tr>\n",
       "      <th>2</th>\n",
       "      <td>399.0</td>\n",
       "      <td>2.288000e+03</td>\n",
       "      <td>2-2-241</td>\n",
       "    </tr>\n",
       "    <tr>\n",
       "      <th>3</th>\n",
       "      <td>49999.0</td>\n",
       "      <td>2.058700e+05</td>\n",
       "      <td>9-1-430</td>\n",
       "    </tr>\n",
       "    <tr>\n",
       "      <th>4</th>\n",
       "      <td>53999.0</td>\n",
       "      <td>2.058700e+05</td>\n",
       "      <td>9-2-4</td>\n",
       "    </tr>\n",
       "    <tr>\n",
       "      <th>...</th>\n",
       "      <td>...</td>\n",
       "      <td>...</td>\n",
       "      <td>...</td>\n",
       "    </tr>\n",
       "    <tr>\n",
       "      <th>478904</th>\n",
       "      <td>13999.0</td>\n",
       "      <td>9.569753e+12</td>\n",
       "      <td>25-1-1</td>\n",
       "    </tr>\n",
       "    <tr>\n",
       "      <th>478905</th>\n",
       "      <td>3499.0</td>\n",
       "      <td>9.795403e+12</td>\n",
       "      <td>25-1-1</td>\n",
       "    </tr>\n",
       "    <tr>\n",
       "      <th>478906</th>\n",
       "      <td>3125.0</td>\n",
       "      <td>9.990386e+12</td>\n",
       "      <td>5-1-3</td>\n",
       "    </tr>\n",
       "    <tr>\n",
       "      <th>478907</th>\n",
       "      <td>3125.0</td>\n",
       "      <td>9.990386e+12</td>\n",
       "      <td>5-1-3</td>\n",
       "    </tr>\n",
       "    <tr>\n",
       "      <th>478908</th>\n",
       "      <td>1989.0</td>\n",
       "      <td>9.990386e+12</td>\n",
       "      <td>5-1-3</td>\n",
       "    </tr>\n",
       "  </tbody>\n",
       "</table>\n",
       "<p>463753 rows × 3 columns</p>\n",
       "</div>"
      ],
      "text/plain": [
       "         precio   producto_id sucursal_id\n",
       "0         399.0  2.288000e+03     2-1-092\n",
       "1         299.0  2.288000e+03     2-1-206\n",
       "2         399.0  2.288000e+03     2-2-241\n",
       "3       49999.0  2.058700e+05     9-1-430\n",
       "4       53999.0  2.058700e+05       9-2-4\n",
       "...         ...           ...         ...\n",
       "478904  13999.0  9.569753e+12      25-1-1\n",
       "478905   3499.0  9.795403e+12      25-1-1\n",
       "478906   3125.0  9.990386e+12       5-1-3\n",
       "478907   3125.0  9.990386e+12       5-1-3\n",
       "478908   1989.0  9.990386e+12       5-1-3\n",
       "\n",
       "[463753 rows x 3 columns]"
      ]
     },
     "execution_count": 22,
     "metadata": {},
     "output_type": "execute_result"
    }
   ],
   "source": [
    "df_precios"
   ]
  },
  {
   "cell_type": "code",
   "execution_count": 20,
   "metadata": {},
   "outputs": [],
   "source": [
    "df_precios = df_precios.dropna()\n",
    "df_precios = df_precios.drop_duplicates()"
   ]
  },
  {
   "cell_type": "code",
   "execution_count": 23,
   "metadata": {},
   "outputs": [],
   "source": [
    "df_precios.producto_id =  df_precios['producto_id'].apply(lambda x: int(x) if isinstance(x,float) else None)\n",
    "df_precios.precio = df_precios.precio.astype(float)"
   ]
  },
  {
   "cell_type": "code",
   "execution_count": 51,
   "metadata": {},
   "outputs": [
    {
     "data": {
      "text/html": [
       "<div>\n",
       "<style scoped>\n",
       "    .dataframe tbody tr th:only-of-type {\n",
       "        vertical-align: middle;\n",
       "    }\n",
       "\n",
       "    .dataframe tbody tr th {\n",
       "        vertical-align: top;\n",
       "    }\n",
       "\n",
       "    .dataframe thead th {\n",
       "        text-align: right;\n",
       "    }\n",
       "</style>\n",
       "<table border=\"1\" class=\"dataframe\">\n",
       "  <thead>\n",
       "    <tr style=\"text-align: right;\">\n",
       "      <th></th>\n",
       "      <th>precio</th>\n",
       "      <th>producto_id</th>\n",
       "      <th>sucursal_id</th>\n",
       "    </tr>\n",
       "  </thead>\n",
       "  <tbody>\n",
       "    <tr>\n",
       "      <th>0</th>\n",
       "      <td>399.0</td>\n",
       "      <td>2288</td>\n",
       "      <td>2-1-092</td>\n",
       "    </tr>\n",
       "    <tr>\n",
       "      <th>1</th>\n",
       "      <td>299.0</td>\n",
       "      <td>2288</td>\n",
       "      <td>2-1-206</td>\n",
       "    </tr>\n",
       "    <tr>\n",
       "      <th>2</th>\n",
       "      <td>399.0</td>\n",
       "      <td>2288</td>\n",
       "      <td>2-2-241</td>\n",
       "    </tr>\n",
       "    <tr>\n",
       "      <th>3</th>\n",
       "      <td>49999.0</td>\n",
       "      <td>205870</td>\n",
       "      <td>9-1-430</td>\n",
       "    </tr>\n",
       "    <tr>\n",
       "      <th>4</th>\n",
       "      <td>53999.0</td>\n",
       "      <td>205870</td>\n",
       "      <td>9-2-4</td>\n",
       "    </tr>\n",
       "    <tr>\n",
       "      <th>...</th>\n",
       "      <td>...</td>\n",
       "      <td>...</td>\n",
       "      <td>...</td>\n",
       "    </tr>\n",
       "    <tr>\n",
       "      <th>478904</th>\n",
       "      <td>13999.0</td>\n",
       "      <td>9569753142128</td>\n",
       "      <td>25-1-1</td>\n",
       "    </tr>\n",
       "    <tr>\n",
       "      <th>478905</th>\n",
       "      <td>3499.0</td>\n",
       "      <td>9795403001143</td>\n",
       "      <td>25-1-1</td>\n",
       "    </tr>\n",
       "    <tr>\n",
       "      <th>478906</th>\n",
       "      <td>3125.0</td>\n",
       "      <td>9990385651922</td>\n",
       "      <td>5-1-3</td>\n",
       "    </tr>\n",
       "    <tr>\n",
       "      <th>478907</th>\n",
       "      <td>3125.0</td>\n",
       "      <td>9990385651939</td>\n",
       "      <td>5-1-3</td>\n",
       "    </tr>\n",
       "    <tr>\n",
       "      <th>478908</th>\n",
       "      <td>1989.0</td>\n",
       "      <td>9990385651946</td>\n",
       "      <td>5-1-3</td>\n",
       "    </tr>\n",
       "  </tbody>\n",
       "</table>\n",
       "<p>463753 rows × 3 columns</p>\n",
       "</div>"
      ],
      "text/plain": [
       "         precio    producto_id sucursal_id\n",
       "0         399.0           2288     2-1-092\n",
       "1         299.0           2288     2-1-206\n",
       "2         399.0           2288     2-2-241\n",
       "3       49999.0         205870     9-1-430\n",
       "4       53999.0         205870       9-2-4\n",
       "...         ...            ...         ...\n",
       "478904  13999.0  9569753142128      25-1-1\n",
       "478905   3499.0  9795403001143      25-1-1\n",
       "478906   3125.0  9990385651922       5-1-3\n",
       "478907   3125.0  9990385651939       5-1-3\n",
       "478908   1989.0  9990385651946       5-1-3\n",
       "\n",
       "[463753 rows x 3 columns]"
      ]
     },
     "execution_count": 51,
     "metadata": {},
     "output_type": "execute_result"
    }
   ],
   "source": [
    "df_precios"
   ]
  },
  {
   "cell_type": "code",
   "execution_count": 40,
   "metadata": {},
   "outputs": [],
   "source": [
    "dff = df_precios2[['producto_id','sucursal_id']]"
   ]
  },
  {
   "cell_type": "code",
   "execution_count": 45,
   "metadata": {},
   "outputs": [],
   "source": [
    "txt = \"10-1-2300073000005\""
   ]
  },
  {
   "cell_type": "code",
   "execution_count": 47,
   "metadata": {},
   "outputs": [
    {
     "data": {
      "text/plain": [
       "'2300073000005'"
      ]
     },
     "execution_count": 47,
     "metadata": {},
     "output_type": "execute_result"
    }
   ],
   "source": [
    "txt.split('-')[2]"
   ]
  },
  {
   "cell_type": "code",
   "execution_count": 48,
   "metadata": {},
   "outputs": [
    {
     "ename": "IndexError",
     "evalue": "list index out of range",
     "output_type": "error",
     "traceback": [
      "\u001b[1;31m---------------------------------------------------------------------------\u001b[0m",
      "\u001b[1;31mIndexError\u001b[0m                                Traceback (most recent call last)",
      "\u001b[1;32mc:\\Users\\ferch\\Desktop\\Henry-Mentor\\DS_LABS\\Proyectos\\Proyectos Individuales\\PI01_DATA04\\Notebook.ipynb Cell 11\u001b[0m in \u001b[0;36m<cell line: 1>\u001b[1;34m()\u001b[0m\n\u001b[1;32m----> <a href='vscode-notebook-cell:/c%3A/Users/ferch/Desktop/Henry-Mentor/DS_LABS/Proyectos/Proyectos%20Individuales/PI01_DATA04/Notebook.ipynb#X25sZmlsZQ%3D%3D?line=0'>1</a>\u001b[0m df_precios2\u001b[39m.\u001b[39;49mproducto_id\u001b[39m.\u001b[39;49mapply(\u001b[39mlambda\u001b[39;49;00m x: x\u001b[39m.\u001b[39;49msplit(\u001b[39m'\u001b[39;49m\u001b[39m-\u001b[39;49m\u001b[39m'\u001b[39;49m)[\u001b[39m2\u001b[39;49m] \u001b[39mif\u001b[39;49;00m \u001b[39misinstance\u001b[39;49m(x,\u001b[39mstr\u001b[39;49m) \u001b[39melse\u001b[39;49;00m \u001b[39mNone\u001b[39;49;00m)\n",
      "File \u001b[1;32m~\\AppData\\Roaming\\Python\\Python310\\site-packages\\pandas\\core\\series.py:4430\u001b[0m, in \u001b[0;36mSeries.apply\u001b[1;34m(self, func, convert_dtype, args, **kwargs)\u001b[0m\n\u001b[0;32m   4320\u001b[0m \u001b[39mdef\u001b[39;00m \u001b[39mapply\u001b[39m(\n\u001b[0;32m   4321\u001b[0m     \u001b[39mself\u001b[39m,\n\u001b[0;32m   4322\u001b[0m     func: AggFuncType,\n\u001b[1;32m   (...)\u001b[0m\n\u001b[0;32m   4325\u001b[0m     \u001b[39m*\u001b[39m\u001b[39m*\u001b[39mkwargs,\n\u001b[0;32m   4326\u001b[0m ) \u001b[39m-\u001b[39m\u001b[39m>\u001b[39m DataFrame \u001b[39m|\u001b[39m Series:\n\u001b[0;32m   4327\u001b[0m     \u001b[39m\"\"\"\u001b[39;00m\n\u001b[0;32m   4328\u001b[0m \u001b[39m    Invoke function on values of Series.\u001b[39;00m\n\u001b[0;32m   4329\u001b[0m \n\u001b[1;32m   (...)\u001b[0m\n\u001b[0;32m   4428\u001b[0m \u001b[39m    dtype: float64\u001b[39;00m\n\u001b[0;32m   4429\u001b[0m \u001b[39m    \"\"\"\u001b[39;00m\n\u001b[1;32m-> 4430\u001b[0m     \u001b[39mreturn\u001b[39;00m SeriesApply(\u001b[39mself\u001b[39;49m, func, convert_dtype, args, kwargs)\u001b[39m.\u001b[39;49mapply()\n",
      "File \u001b[1;32m~\\AppData\\Roaming\\Python\\Python310\\site-packages\\pandas\\core\\apply.py:1082\u001b[0m, in \u001b[0;36mSeriesApply.apply\u001b[1;34m(self)\u001b[0m\n\u001b[0;32m   1078\u001b[0m \u001b[39mif\u001b[39;00m \u001b[39misinstance\u001b[39m(\u001b[39mself\u001b[39m\u001b[39m.\u001b[39mf, \u001b[39mstr\u001b[39m):\n\u001b[0;32m   1079\u001b[0m     \u001b[39m# if we are a string, try to dispatch\u001b[39;00m\n\u001b[0;32m   1080\u001b[0m     \u001b[39mreturn\u001b[39;00m \u001b[39mself\u001b[39m\u001b[39m.\u001b[39mapply_str()\n\u001b[1;32m-> 1082\u001b[0m \u001b[39mreturn\u001b[39;00m \u001b[39mself\u001b[39;49m\u001b[39m.\u001b[39;49mapply_standard()\n",
      "File \u001b[1;32m~\\AppData\\Roaming\\Python\\Python310\\site-packages\\pandas\\core\\apply.py:1137\u001b[0m, in \u001b[0;36mSeriesApply.apply_standard\u001b[1;34m(self)\u001b[0m\n\u001b[0;32m   1131\u001b[0m         values \u001b[39m=\u001b[39m obj\u001b[39m.\u001b[39mastype(\u001b[39mobject\u001b[39m)\u001b[39m.\u001b[39m_values\n\u001b[0;32m   1132\u001b[0m         \u001b[39m# error: Argument 2 to \"map_infer\" has incompatible type\u001b[39;00m\n\u001b[0;32m   1133\u001b[0m         \u001b[39m# \"Union[Callable[..., Any], str, List[Union[Callable[..., Any], str]],\u001b[39;00m\n\u001b[0;32m   1134\u001b[0m         \u001b[39m# Dict[Hashable, Union[Union[Callable[..., Any], str],\u001b[39;00m\n\u001b[0;32m   1135\u001b[0m         \u001b[39m# List[Union[Callable[..., Any], str]]]]]\"; expected\u001b[39;00m\n\u001b[0;32m   1136\u001b[0m         \u001b[39m# \"Callable[[Any], Any]\"\u001b[39;00m\n\u001b[1;32m-> 1137\u001b[0m         mapped \u001b[39m=\u001b[39m lib\u001b[39m.\u001b[39;49mmap_infer(\n\u001b[0;32m   1138\u001b[0m             values,\n\u001b[0;32m   1139\u001b[0m             f,  \u001b[39m# type: ignore[arg-type]\u001b[39;49;00m\n\u001b[0;32m   1140\u001b[0m             convert\u001b[39m=\u001b[39;49m\u001b[39mself\u001b[39;49m\u001b[39m.\u001b[39;49mconvert_dtype,\n\u001b[0;32m   1141\u001b[0m         )\n\u001b[0;32m   1143\u001b[0m \u001b[39mif\u001b[39;00m \u001b[39mlen\u001b[39m(mapped) \u001b[39mand\u001b[39;00m \u001b[39misinstance\u001b[39m(mapped[\u001b[39m0\u001b[39m], ABCSeries):\n\u001b[0;32m   1144\u001b[0m     \u001b[39m# GH#43986 Need to do list(mapped) in order to get treated as nested\u001b[39;00m\n\u001b[0;32m   1145\u001b[0m     \u001b[39m#  See also GH#25959 regarding EA support\u001b[39;00m\n\u001b[0;32m   1146\u001b[0m     \u001b[39mreturn\u001b[39;00m obj\u001b[39m.\u001b[39m_constructor_expanddim(\u001b[39mlist\u001b[39m(mapped), index\u001b[39m=\u001b[39mobj\u001b[39m.\u001b[39mindex)\n",
      "File \u001b[1;32m~\\AppData\\Roaming\\Python\\Python310\\site-packages\\pandas\\_libs\\lib.pyx:2870\u001b[0m, in \u001b[0;36mpandas._libs.lib.map_infer\u001b[1;34m()\u001b[0m\n",
      "\u001b[1;32mc:\\Users\\ferch\\Desktop\\Henry-Mentor\\DS_LABS\\Proyectos\\Proyectos Individuales\\PI01_DATA04\\Notebook.ipynb Cell 11\u001b[0m in \u001b[0;36m<lambda>\u001b[1;34m(x)\u001b[0m\n\u001b[1;32m----> <a href='vscode-notebook-cell:/c%3A/Users/ferch/Desktop/Henry-Mentor/DS_LABS/Proyectos/Proyectos%20Individuales/PI01_DATA04/Notebook.ipynb#X25sZmlsZQ%3D%3D?line=0'>1</a>\u001b[0m df_precios2\u001b[39m.\u001b[39mproducto_id\u001b[39m.\u001b[39mapply(\u001b[39mlambda\u001b[39;00m x: x\u001b[39m.\u001b[39;49msplit(\u001b[39m'\u001b[39;49m\u001b[39m-\u001b[39;49m\u001b[39m'\u001b[39;49m)[\u001b[39m2\u001b[39;49m] \u001b[39mif\u001b[39;00m \u001b[39misinstance\u001b[39m(x,\u001b[39mstr\u001b[39m) \u001b[39melse\u001b[39;00m \u001b[39mNone\u001b[39;00m)\n",
      "\u001b[1;31mIndexError\u001b[0m: list index out of range"
     ]
    }
   ],
   "source": [
    "df_precios2.producto_id.apply(lambda x: x.split('-')[2] if isinstance(x,str) else None)"
   ]
  },
  {
   "cell_type": "code",
   "execution_count": 63,
   "metadata": {},
   "outputs": [],
   "source": [
    "df_precios = df_precios.dropna()\n",
    "df_precios['producto_id'] = df_precios['producto_id'].astype('int64',errors='ignore')"
   ]
  },
  {
   "cell_type": "code",
   "execution_count": 11,
   "metadata": {},
   "outputs": [
    {
     "ename": "NameError",
     "evalue": "name 'df_precios2' is not defined",
     "output_type": "error",
     "traceback": [
      "\u001b[1;31m---------------------------------------------------------------------------\u001b[0m",
      "\u001b[1;31mNameError\u001b[0m                                 Traceback (most recent call last)",
      "\u001b[1;32mc:\\Users\\ferch\\Desktop\\Henry-Mentor\\DS_LABS\\Proyectos\\Proyectos Individuales\\PI01_DATA04\\Notebook.ipynb Cell 7\u001b[0m in \u001b[0;36m<cell line: 1>\u001b[1;34m()\u001b[0m\n\u001b[1;32m----> <a href='vscode-notebook-cell:/c%3A/Users/ferch/Desktop/Henry-Mentor/DS_LABS/Proyectos/Proyectos%20Individuales/PI01_DATA04/Notebook.ipynb#W6sZmlsZQ%3D%3D?line=0'>1</a>\u001b[0m df_precios2\n",
      "\u001b[1;31mNameError\u001b[0m: name 'df_precios2' is not defined"
     ]
    }
   ],
   "source": [
    "df_precios2"
   ]
  },
  {
   "cell_type": "code",
   "execution_count": 84,
   "metadata": {},
   "outputs": [],
   "source": [
    "def preProc(df):\n",
    "    df = df.copy()\n",
    "    df = df.dropna()\n",
    "    df = df.drop_duplicates()\n",
    "    return df"
   ]
  },
  {
   "cell_type": "code",
   "execution_count": 85,
   "metadata": {},
   "outputs": [],
   "source": [
    "df_precios2 = preProc(df_precios2)"
   ]
  },
  {
   "cell_type": "code",
   "execution_count": 86,
   "metadata": {},
   "outputs": [
    {
     "data": {
      "text/html": [
       "<div>\n",
       "<style scoped>\n",
       "    .dataframe tbody tr th:only-of-type {\n",
       "        vertical-align: middle;\n",
       "    }\n",
       "\n",
       "    .dataframe tbody tr th {\n",
       "        vertical-align: top;\n",
       "    }\n",
       "\n",
       "    .dataframe thead th {\n",
       "        text-align: right;\n",
       "    }\n",
       "</style>\n",
       "<table border=\"1\" class=\"dataframe\">\n",
       "  <thead>\n",
       "    <tr style=\"text-align: right;\">\n",
       "      <th></th>\n",
       "      <th>precio</th>\n",
       "      <th>producto_id</th>\n",
       "      <th>sucursal_id</th>\n",
       "    </tr>\n",
       "  </thead>\n",
       "  <tbody>\n",
       "    <tr>\n",
       "      <th>0</th>\n",
       "      <td>29.90</td>\n",
       "      <td>0000000001663</td>\n",
       "      <td>2-1-014</td>\n",
       "    </tr>\n",
       "    <tr>\n",
       "      <th>1</th>\n",
       "      <td>29.90</td>\n",
       "      <td>0000000002288</td>\n",
       "      <td>2-1-032</td>\n",
       "    </tr>\n",
       "    <tr>\n",
       "      <th>2</th>\n",
       "      <td>39.90</td>\n",
       "      <td>0000000002288</td>\n",
       "      <td>2-1-096</td>\n",
       "    </tr>\n",
       "    <tr>\n",
       "      <th>3</th>\n",
       "      <td>499.99</td>\n",
       "      <td>0000000205870</td>\n",
       "      <td>9-1-686</td>\n",
       "    </tr>\n",
       "    <tr>\n",
       "      <th>4</th>\n",
       "      <td>519.99</td>\n",
       "      <td>0000000205870</td>\n",
       "      <td>9-2-248</td>\n",
       "    </tr>\n",
       "    <tr>\n",
       "      <th>...</th>\n",
       "      <td>...</td>\n",
       "      <td>...</td>\n",
       "      <td>...</td>\n",
       "    </tr>\n",
       "    <tr>\n",
       "      <th>472161</th>\n",
       "      <td>139.99</td>\n",
       "      <td>9569753142128</td>\n",
       "      <td>25-1-1</td>\n",
       "    </tr>\n",
       "    <tr>\n",
       "      <th>472162</th>\n",
       "      <td>34.99</td>\n",
       "      <td>9795403001143</td>\n",
       "      <td>25-1-1</td>\n",
       "    </tr>\n",
       "    <tr>\n",
       "      <th>472163</th>\n",
       "      <td>312.50</td>\n",
       "      <td>9990385651922</td>\n",
       "      <td>5-1-3</td>\n",
       "    </tr>\n",
       "    <tr>\n",
       "      <th>472164</th>\n",
       "      <td>312.50</td>\n",
       "      <td>9990385651939</td>\n",
       "      <td>5-1-3</td>\n",
       "    </tr>\n",
       "    <tr>\n",
       "      <th>472165</th>\n",
       "      <td>198.90</td>\n",
       "      <td>9990385651946</td>\n",
       "      <td>5-1-3</td>\n",
       "    </tr>\n",
       "  </tbody>\n",
       "</table>\n",
       "<p>472131 rows × 3 columns</p>\n",
       "</div>"
      ],
      "text/plain": [
       "        precio    producto_id sucursal_id\n",
       "0        29.90  0000000001663     2-1-014\n",
       "1        29.90  0000000002288     2-1-032\n",
       "2        39.90  0000000002288     2-1-096\n",
       "3       499.99  0000000205870     9-1-686\n",
       "4       519.99  0000000205870     9-2-248\n",
       "...        ...            ...         ...\n",
       "472161  139.99  9569753142128      25-1-1\n",
       "472162   34.99  9795403001143      25-1-1\n",
       "472163  312.50  9990385651922       5-1-3\n",
       "472164  312.50  9990385651939       5-1-3\n",
       "472165  198.90  9990385651946       5-1-3\n",
       "\n",
       "[472131 rows x 3 columns]"
      ]
     },
     "execution_count": 86,
     "metadata": {},
     "output_type": "execute_result"
    }
   ],
   "source": [
    "df_precios2"
   ]
  },
  {
   "cell_type": "code",
   "execution_count": 21,
   "metadata": {},
   "outputs": [],
   "source": [
    "for file in files:\n",
    "    if \"xlsx\" in file:\n",
    "        df_precios = pd.read_excel(file)\n",
    "    \n",
    "    \n"
   ]
  },
  {
   "cell_type": "code",
   "execution_count": 23,
   "metadata": {},
   "outputs": [],
   "source": [
    "p = crearDf(files)\n"
   ]
  },
  {
   "cell_type": "code",
   "execution_count": null,
   "metadata": {},
   "outputs": [],
   "source": [
    "for file in files:\n",
    "    df_pre"
   ]
  },
  {
   "cell_type": "code",
   "execution_count": 16,
   "metadata": {},
   "outputs": [],
   "source": [
    "df = pd.read_excel(r\"C:\\Users\\ferch\\Desktop\\Henry-PIs\\Datasets relevamiento precios\\Datasets relevamiento precios\\precios_semanas_20200419_20200426.xlsx\")"
   ]
  },
  {
   "cell_type": "code",
   "execution_count": 17,
   "metadata": {},
   "outputs": [
    {
     "data": {
      "text/html": [
       "<div>\n",
       "<style scoped>\n",
       "    .dataframe tbody tr th:only-of-type {\n",
       "        vertical-align: middle;\n",
       "    }\n",
       "\n",
       "    .dataframe tbody tr th {\n",
       "        vertical-align: top;\n",
       "    }\n",
       "\n",
       "    .dataframe thead th {\n",
       "        text-align: right;\n",
       "    }\n",
       "</style>\n",
       "<table border=\"1\" class=\"dataframe\">\n",
       "  <thead>\n",
       "    <tr style=\"text-align: right;\">\n",
       "      <th></th>\n",
       "      <th>precio</th>\n",
       "      <th>producto_id</th>\n",
       "      <th>sucursal_id</th>\n",
       "    </tr>\n",
       "  </thead>\n",
       "  <tbody>\n",
       "    <tr>\n",
       "      <th>0</th>\n",
       "      <td>399.0</td>\n",
       "      <td>2.288000e+03</td>\n",
       "      <td>2-1-092</td>\n",
       "    </tr>\n",
       "    <tr>\n",
       "      <th>1</th>\n",
       "      <td>299.0</td>\n",
       "      <td>2.288000e+03</td>\n",
       "      <td>2-1-206</td>\n",
       "    </tr>\n",
       "    <tr>\n",
       "      <th>2</th>\n",
       "      <td>399.0</td>\n",
       "      <td>2.288000e+03</td>\n",
       "      <td>2-2-241</td>\n",
       "    </tr>\n",
       "    <tr>\n",
       "      <th>3</th>\n",
       "      <td>49999.0</td>\n",
       "      <td>2.058700e+05</td>\n",
       "      <td>9-1-430</td>\n",
       "    </tr>\n",
       "    <tr>\n",
       "      <th>4</th>\n",
       "      <td>53999.0</td>\n",
       "      <td>2.058700e+05</td>\n",
       "      <td>9-2-4</td>\n",
       "    </tr>\n",
       "    <tr>\n",
       "      <th>...</th>\n",
       "      <td>...</td>\n",
       "      <td>...</td>\n",
       "      <td>...</td>\n",
       "    </tr>\n",
       "    <tr>\n",
       "      <th>478904</th>\n",
       "      <td>13999.0</td>\n",
       "      <td>9.569753e+12</td>\n",
       "      <td>25-1-1</td>\n",
       "    </tr>\n",
       "    <tr>\n",
       "      <th>478905</th>\n",
       "      <td>3499.0</td>\n",
       "      <td>9.795403e+12</td>\n",
       "      <td>25-1-1</td>\n",
       "    </tr>\n",
       "    <tr>\n",
       "      <th>478906</th>\n",
       "      <td>3125.0</td>\n",
       "      <td>9.990386e+12</td>\n",
       "      <td>5-1-3</td>\n",
       "    </tr>\n",
       "    <tr>\n",
       "      <th>478907</th>\n",
       "      <td>3125.0</td>\n",
       "      <td>9.990386e+12</td>\n",
       "      <td>5-1-3</td>\n",
       "    </tr>\n",
       "    <tr>\n",
       "      <th>478908</th>\n",
       "      <td>1989.0</td>\n",
       "      <td>9.990386e+12</td>\n",
       "      <td>5-1-3</td>\n",
       "    </tr>\n",
       "  </tbody>\n",
       "</table>\n",
       "<p>478909 rows × 3 columns</p>\n",
       "</div>"
      ],
      "text/plain": [
       "         precio   producto_id sucursal_id\n",
       "0         399.0  2.288000e+03     2-1-092\n",
       "1         299.0  2.288000e+03     2-1-206\n",
       "2         399.0  2.288000e+03     2-2-241\n",
       "3       49999.0  2.058700e+05     9-1-430\n",
       "4       53999.0  2.058700e+05       9-2-4\n",
       "...         ...           ...         ...\n",
       "478904  13999.0  9.569753e+12      25-1-1\n",
       "478905   3499.0  9.795403e+12      25-1-1\n",
       "478906   3125.0  9.990386e+12       5-1-3\n",
       "478907   3125.0  9.990386e+12       5-1-3\n",
       "478908   1989.0  9.990386e+12       5-1-3\n",
       "\n",
       "[478909 rows x 3 columns]"
      ]
     },
     "execution_count": 17,
     "metadata": {},
     "output_type": "execute_result"
    }
   ],
   "source": [
    "df = pd.rea"
   ]
  }
 ],
 "metadata": {
  "kernelspec": {
   "display_name": "Python 3.10.6 64-bit",
   "language": "python",
   "name": "python3"
  },
  "language_info": {
   "codemirror_mode": {
    "name": "ipython",
    "version": 3
   },
   "file_extension": ".py",
   "mimetype": "text/x-python",
   "name": "python",
   "nbconvert_exporter": "python",
   "pygments_lexer": "ipython3",
   "version": "3.10.6"
  },
  "orig_nbformat": 4,
  "vscode": {
   "interpreter": {
    "hash": "76c4de0fabe0602e2c2e9a8dee706b7aec8ef4c85d03ce0961883d90af556438"
   }
  }
 },
 "nbformat": 4,
 "nbformat_minor": 2
}
