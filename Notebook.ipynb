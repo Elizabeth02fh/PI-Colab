{
 "cells": [
  {
   "cell_type": "code",
   "execution_count": 1,
   "metadata": {},
   "outputs": [],
   "source": [
    "import pandas as pd\n",
    "import os\n",
    "import glob\n",
    "from datetime import datetime"
   ]
  },
  {
   "cell_type": "code",
   "execution_count": 2,
   "metadata": {},
   "outputs": [],
   "source": [
    "path = os.getcwd() + \"\\\\Dataset\\\\\"\n",
    "files = glob.glob(path + \"/*precios*\")"
   ]
  },
  {
   "cell_type": "code",
   "execution_count": 96,
   "metadata": {},
   "outputs": [],
   "source": [
    "df_precios = pd.read_excel(files[0], dtype=object ,sheet_name=1)\n",
    "df_precios1 = pd.read_excel(files[0], sheet_name=0)\n",
    "df_precios2 = pd.read_csv(files[1],sep=',',encoding='utf-16')\n",
    "df_precios3 = pd.read_json(files[2])"
   ]
  },
  {
   "cell_type": "code",
   "execution_count": 175,
   "metadata": {},
   "outputs": [],
   "source": [
    "df_precios1 = pd.read_excel(files[0], sheet_name=0)"
   ]
  },
  {
   "cell_type": "code",
   "execution_count": 192,
   "metadata": {},
   "outputs": [],
   "source": [
    "def unDate(x):\n",
    "    \"\"\"read_excel me trae algunas sucursal_id como si fueran datetime. Esta funcion toma elementos, chequea si son datetime y en caso de serlo, los convierte a str con el formato acorde al orden de identificadores de sucursal\"\"\"\n",
    "    if isinstance(x,datetime):\n",
    "        x=x.strftime(\"%d-%m-%Y\")\n",
    "    return x\n",
    "\n",
    "def nasDups(df):\n",
    "    \"\"\"Cosas básicas: remover duplicados y nulos\"\"\"\n",
    "    df = df.copy()\n",
    "    df = df.dropna()\n",
    "    df = df.drop_duplicates()\n",
    "    return df\n",
    "\n",
    "def typeCheck(df):\n",
    "    if df.precio.dtype != \"float\":\n",
    "        try:\n",
    "            df.precio = df.precio.apply(lambda x: None if x == '' else x)\n",
    "            df.precio = df.precio.astype(float)\n",
    "        except:\n",
    "            print(\"Error 1\")\n",
    "    if df.sucursal_id.dtype != \"str\":\n",
    "        try:\n",
    "            df.sucursal_id = df.sucursal_id.astype('string')\n",
    "        except:\n",
    "            print('Error str')\n",
    "            \n",
    "    if df.producto_id.dtype == \"float\":\n",
    "        df.producto_id = df.producto_id.astype(int)\n",
    "        df.producto_id = df.producto_id.astype('string')\n",
    "    return df\n",
    "\n",
    "def splitProd(df):\n",
    "    df.producto_id = df.producto_id.str.split('-').str[-1]\n",
    "    return df\n"
   ]
  },
  {
   "cell_type": "code",
   "execution_count": 156,
   "metadata": {},
   "outputs": [],
   "source": [
    "df_precios = nasDups(df_precios)\n",
    "df_precios = splitProd(df_precios)\n",
    "df_precios = typeCheck(df_precios)"
   ]
  },
  {
   "cell_type": "code",
   "execution_count": 193,
   "metadata": {},
   "outputs": [],
   "source": [
    "def etl(df):\n",
    "    df = nasDups(df)\n",
    "    df = typeCheck(df)\n",
    "    df = splitProd(df)\n",
    "    df = unDate(df)\n",
    "    return df"
   ]
  },
  {
   "cell_type": "code",
   "execution_count": 195,
   "metadata": {},
   "outputs": [],
   "source": [
    "df_precios1 = etl(df_precios1)\n",
    "df_precios2 = etl(df_precios2)"
   ]
  },
  {
   "cell_type": "code",
   "execution_count": 194,
   "metadata": {},
   "outputs": [],
   "source": [
    "df_precios3 = etl(df_precios3)"
   ]
  },
  {
   "cell_type": "code",
   "execution_count": 187,
   "metadata": {},
   "outputs": [
    {
     "data": {
      "text/plain": [
       "0           29.9\n",
       "1           39.9\n",
       "2         499.99\n",
       "3         539.99\n",
       "4         519.99\n",
       "           ...  \n",
       "397600       409\n",
       "397601       509\n",
       "397602    114.99\n",
       "397603       219\n",
       "397604    349.99\n",
       "Name: precio, Length: 22466, dtype: object"
      ]
     },
     "execution_count": 187,
     "metadata": {},
     "output_type": "execute_result"
    }
   ],
   "source": [
    "df_precios3.precio"
   ]
  },
  {
   "cell_type": "code",
   "execution_count": null,
   "metadata": {},
   "outputs": [],
   "source": [
    "df_precios1.producto_id = df_precios1.producto_id"
   ]
  },
  {
   "cell_type": "code",
   "execution_count": null,
   "metadata": {},
   "outputs": [],
   "source": [
    "df_precios = etl(df_precios)\n",
    "df_precios1 = etl(df_precios1)\n",
    "df_precios2 = etl(df_precios2)\n",
    "df_precios3 = etl(df_precios3)"
   ]
  },
  {
   "cell_type": "code",
   "execution_count": 188,
   "metadata": {},
   "outputs": [
    {
     "name": "stdout",
     "output_type": "stream",
     "text": [
      "<class 'pandas.core.frame.DataFrame'>\n",
      "Int64Index: 463753 entries, 0 to 478908\n",
      "Data columns (total 3 columns):\n",
      " #   Column       Non-Null Count   Dtype  \n",
      "---  ------       --------------   -----  \n",
      " 0   precio       463753 non-null  float64\n",
      " 1   producto_id  463753 non-null  object \n",
      " 2   sucursal_id  463753 non-null  string \n",
      "dtypes: float64(1), object(1), string(1)\n",
      "memory usage: 14.2+ MB\n"
     ]
    }
   ],
   "source": [
    "df_precios1.info()"
   ]
  },
  {
   "cell_type": "code",
   "execution_count": 134,
   "metadata": {},
   "outputs": [
    {
     "data": {
      "text/html": [
       "<div>\n",
       "<style scoped>\n",
       "    .dataframe tbody tr th:only-of-type {\n",
       "        vertical-align: middle;\n",
       "    }\n",
       "\n",
       "    .dataframe tbody tr th {\n",
       "        vertical-align: top;\n",
       "    }\n",
       "\n",
       "    .dataframe thead th {\n",
       "        text-align: right;\n",
       "    }\n",
       "</style>\n",
       "<table border=\"1\" class=\"dataframe\">\n",
       "  <thead>\n",
       "    <tr style=\"text-align: right;\">\n",
       "      <th></th>\n",
       "      <th>precio</th>\n",
       "      <th>producto_id</th>\n",
       "      <th>sucursal_id</th>\n",
       "    </tr>\n",
       "  </thead>\n",
       "  <tbody>\n",
       "    <tr>\n",
       "      <th>22476</th>\n",
       "      <td>4.399890e+16</td>\n",
       "      <td>NaN</td>\n",
       "      <td>36-3-25</td>\n",
       "    </tr>\n",
       "    <tr>\n",
       "      <th>22488</th>\n",
       "      <td>4.399890e+16</td>\n",
       "      <td>NaN</td>\n",
       "      <td>36-3-25</td>\n",
       "    </tr>\n",
       "    <tr>\n",
       "      <th>22489</th>\n",
       "      <td>4.399890e+16</td>\n",
       "      <td>NaN</td>\n",
       "      <td>36-3-25</td>\n",
       "    </tr>\n",
       "    <tr>\n",
       "      <th>22783</th>\n",
       "      <td>4.399890e+16</td>\n",
       "      <td>NaN</td>\n",
       "      <td>36-5-73</td>\n",
       "    </tr>\n",
       "  </tbody>\n",
       "</table>\n",
       "</div>"
      ],
      "text/plain": [
       "             precio  producto_id sucursal_id\n",
       "22476  4.399890e+16          NaN     36-3-25\n",
       "22488  4.399890e+16          NaN     36-3-25\n",
       "22489  4.399890e+16          NaN     36-3-25\n",
       "22783  4.399890e+16          NaN     36-5-73"
      ]
     },
     "execution_count": 134,
     "metadata": {},
     "output_type": "execute_result"
    }
   ],
   "source": [
    "df_precios1[df_precios1.precio == df_precios1.precio.max()]"
   ]
  },
  {
   "cell_type": "code",
   "execution_count": 116,
   "metadata": {},
   "outputs": [
    {
     "data": {
      "text/plain": [
       "11125     829.00\n",
       "11126      59.00\n",
       "11127      59.00\n",
       "11128       7.49\n",
       "11129      59.00\n",
       "           ...  \n",
       "458382    145.00\n",
       "458383    149.00\n",
       "458384    509.00\n",
       "458385     90.99\n",
       "458386    349.99\n",
       "Name: precio, Length: 12464, dtype: float64"
      ]
     },
     "execution_count": 116,
     "metadata": {},
     "output_type": "execute_result"
    }
   ],
   "source": [
    "df_precios.precio.astype(float)"
   ]
  },
  {
   "cell_type": "code",
   "execution_count": null,
   "metadata": {},
   "outputs": [],
   "source": []
  },
  {
   "cell_type": "markdown",
   "metadata": {},
   "source": [
    "Algunos precios son un str vacio: ''. Los convertimos a nulos para poder remover esos registros"
   ]
  },
  {
   "cell_type": "code",
   "execution_count": 191,
   "metadata": {},
   "outputs": [
    {
     "data": {
      "text/html": [
       "<div>\n",
       "<style scoped>\n",
       "    .dataframe tbody tr th:only-of-type {\n",
       "        vertical-align: middle;\n",
       "    }\n",
       "\n",
       "    .dataframe tbody tr th {\n",
       "        vertical-align: top;\n",
       "    }\n",
       "\n",
       "    .dataframe thead th {\n",
       "        text-align: right;\n",
       "    }\n",
       "</style>\n",
       "<table border=\"1\" class=\"dataframe\">\n",
       "  <thead>\n",
       "    <tr style=\"text-align: right;\">\n",
       "      <th></th>\n",
       "      <th>precio</th>\n",
       "      <th>producto_id</th>\n",
       "      <th>sucursal_id</th>\n",
       "    </tr>\n",
       "  </thead>\n",
       "  <tbody>\n",
       "    <tr>\n",
       "      <th>8754</th>\n",
       "      <td></td>\n",
       "      <td>0643131504438</td>\n",
       "      <td>65-1-317</td>\n",
       "    </tr>\n",
       "    <tr>\n",
       "      <th>9121</th>\n",
       "      <td></td>\n",
       "      <td>0655257738062</td>\n",
       "      <td>65-1-317</td>\n",
       "    </tr>\n",
       "    <tr>\n",
       "      <th>9122</th>\n",
       "      <td></td>\n",
       "      <td>0655257738246</td>\n",
       "      <td>65-1-317</td>\n",
       "    </tr>\n",
       "    <tr>\n",
       "      <th>28020</th>\n",
       "      <td></td>\n",
       "      <td>0000000000048</td>\n",
       "      <td>65-1-317</td>\n",
       "    </tr>\n",
       "    <tr>\n",
       "      <th>28021</th>\n",
       "      <td></td>\n",
       "      <td>0000000000242</td>\n",
       "      <td>65-1-317</td>\n",
       "    </tr>\n",
       "    <tr>\n",
       "      <th>...</th>\n",
       "      <td>...</td>\n",
       "      <td>...</td>\n",
       "      <td>...</td>\n",
       "    </tr>\n",
       "    <tr>\n",
       "      <th>28112</th>\n",
       "      <td></td>\n",
       "      <td>0000000017254</td>\n",
       "      <td>65-1-317</td>\n",
       "    </tr>\n",
       "    <tr>\n",
       "      <th>28113</th>\n",
       "      <td></td>\n",
       "      <td>0000000017257</td>\n",
       "      <td>65-1-317</td>\n",
       "    </tr>\n",
       "    <tr>\n",
       "      <th>28114</th>\n",
       "      <td></td>\n",
       "      <td>0000000017419</td>\n",
       "      <td>65-1-317</td>\n",
       "    </tr>\n",
       "    <tr>\n",
       "      <th>28115</th>\n",
       "      <td></td>\n",
       "      <td>0000000017420</td>\n",
       "      <td>65-1-317</td>\n",
       "    </tr>\n",
       "    <tr>\n",
       "      <th>28116</th>\n",
       "      <td></td>\n",
       "      <td>0000000017425</td>\n",
       "      <td>65-1-317</td>\n",
       "    </tr>\n",
       "  </tbody>\n",
       "</table>\n",
       "<p>100 rows × 3 columns</p>\n",
       "</div>"
      ],
      "text/plain": [
       "      precio    producto_id sucursal_id\n",
       "8754          0643131504438    65-1-317\n",
       "9121          0655257738062    65-1-317\n",
       "9122          0655257738246    65-1-317\n",
       "28020         0000000000048    65-1-317\n",
       "28021         0000000000242    65-1-317\n",
       "...      ...            ...         ...\n",
       "28112         0000000017254    65-1-317\n",
       "28113         0000000017257    65-1-317\n",
       "28114         0000000017419    65-1-317\n",
       "28115         0000000017420    65-1-317\n",
       "28116         0000000017425    65-1-317\n",
       "\n",
       "[100 rows x 3 columns]"
      ]
     },
     "execution_count": 191,
     "metadata": {},
     "output_type": "execute_result"
    }
   ],
   "source": [
    "df_precios3[df_precios3.precio == '']"
   ]
  },
  {
   "cell_type": "code",
   "execution_count": 87,
   "metadata": {},
   "outputs": [],
   "source": [
    "df_precios3.precio = df_precios3.precio.apply(lambda x: None if x == '' else x)"
   ]
  },
  {
   "cell_type": "code",
   "execution_count": 77,
   "metadata": {},
   "outputs": [],
   "source": [
    "df_precios.sucursal_id = df_precios['sucursal_id'].apply(unDate)"
   ]
  },
  {
   "cell_type": "markdown",
   "metadata": {},
   "source": [
    "Vemos que hay nulos en precio y en producto_id.  \n",
    "Los producto_id están como float, vamos a convertirlos"
   ]
  },
  {
   "cell_type": "code",
   "execution_count": 79,
   "metadata": {},
   "outputs": [],
   "source": [
    "df_precios.producto_id =  df_precios['producto_id'].apply(lambda x: int(x) if isinstance(x,float) else None)\n",
    "# df_precios.precio = df_precios.precio.astype(float)"
   ]
  },
  {
   "cell_type": "code",
   "execution_count": 89,
   "metadata": {},
   "outputs": [
    {
     "name": "stdout",
     "output_type": "stream",
     "text": [
      "<class 'pandas.core.frame.DataFrame'>\n",
      "Int64Index: 472131 entries, 0 to 472165\n",
      "Data columns (total 3 columns):\n",
      " #   Column       Non-Null Count   Dtype  \n",
      "---  ------       --------------   -----  \n",
      " 0   precio       472131 non-null  float64\n",
      " 1   producto_id  472131 non-null  object \n",
      " 2   sucursal_id  472131 non-null  object \n",
      "dtypes: float64(1), object(2)\n",
      "memory usage: 30.5+ MB\n"
     ]
    }
   ],
   "source": [
    "df_precios2.info()"
   ]
  },
  {
   "cell_type": "code",
   "execution_count": 6,
   "metadata": {},
   "outputs": [],
   "source": [
    "df_precios2 = nasDups(df_precios2)"
   ]
  },
  {
   "cell_type": "code",
   "execution_count": 39,
   "metadata": {},
   "outputs": [],
   "source": [
    "df_precios.precio = df_precios.precio.astype(float)"
   ]
  },
  {
   "cell_type": "code",
   "execution_count": 129,
   "metadata": {},
   "outputs": [],
   "source": [
    "df_precios2 = preProc(df_precios2)"
   ]
  },
  {
   "cell_type": "code",
   "execution_count": 144,
   "metadata": {},
   "outputs": [],
   "source": [
    "count = 0\n",
    "count_str = 0\n",
    "for item in df_precios.producto_id:\n",
    "    if isinstance(item,str):\n",
    "        if '-' in item:\n",
    "            count_str +=1\n",
    "    else:\n",
    "        count+=1\n"
   ]
  }
 ],
 "metadata": {
  "kernelspec": {
   "display_name": "Python 3.10.6 64-bit",
   "language": "python",
   "name": "python3"
  },
  "language_info": {
   "codemirror_mode": {
    "name": "ipython",
    "version": 3
   },
   "file_extension": ".py",
   "mimetype": "text/x-python",
   "name": "python",
   "nbconvert_exporter": "python",
   "pygments_lexer": "ipython3",
   "version": "3.10.6"
  },
  "orig_nbformat": 4,
  "vscode": {
   "interpreter": {
    "hash": "76c4de0fabe0602e2c2e9a8dee706b7aec8ef4c85d03ce0961883d90af556438"
   }
  }
 },
 "nbformat": 4,
 "nbformat_minor": 2
}
